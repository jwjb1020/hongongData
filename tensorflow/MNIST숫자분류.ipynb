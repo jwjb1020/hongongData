{
 "cells": [
  {
   "cell_type": "code",
   "execution_count": 2,
   "metadata": {},
   "outputs": [
    {
     "name": "stdout",
     "output_type": "stream",
     "text": [
      "1875/1875 [==============================] - 6s 3ms/step\n",
      "confusion_matrix: tf.Tensor(\n",
      "[[5923    0    0    0    0    0    0    0    0    0]\n",
      " [   0 6739    0    0    0    0    0    1    1    1]\n",
      " [   0    0 5956    0    1    0    0    0    0    1]\n",
      " [   1    0    3 6111    0    5    0    1    6    4]\n",
      " [   0    1    0    0 5837    0    0    1    2    1]\n",
      " [   1    0    0    0    0 5416    3    0    1    0]\n",
      " [   2    0    0    0    1    0 5914    0    1    0]\n",
      " [   0    4    5    0    0    0    0 6256    0    0]\n",
      " [   2    1    2    0    2    0    1    0 5843    0]\n",
      " [   1    2    0    0   10    0    0    2    3 5931]], shape=(10, 10), dtype=int32)\n"
     ]
    }
   ],
   "source": [
    "import tensorflow as tf\n",
    "from keras.datasets import mnist\n",
    "from keras.layers import Input, Conv2D, MaxPool2D, Dense\n",
    "from keras.layers import BatchNormalization, Dropout,Flatten\n",
    "from keras.optimizers import RMSprop\n",
    "import numpy as np\n",
    "import matplotlib.pyplot as plt\n",
    "\n",
    "(x_train, y_train), (x_test, y_test) = mnist.load_data()\n",
    "x_train = x_train.astype(\"float32\")\n",
    "x_test = x_test.astype(\"float32\")\n",
    "x_train /= 255.0\n",
    "x_test /= 255.0\n",
    "\n",
    "x_train = np.expand_dims(x_train,axis=3)\n",
    "x_test = np.expand_dims(x_test,axis=3)\n",
    "\n",
    "y_train = tf.keras.utils.to_categorical(y_train)\n",
    "y_test = tf.keras.utils.to_categorical(y_test)\n",
    "\n",
    "def create_cnn2d(input_shape, num_class =10):\n",
    "    inputs =Input(shape= input_shape)\n",
    "    x= Conv2D(filters= 16, kernel_size=(3,3),activation=\"relu\")(inputs)\n",
    "    x= BatchNormalization()(x)\n",
    "    x= MaxPool2D()(x)\n",
    "    x = Conv2D(filters= 32, kernel_size=(3,3), activation=\"relu\")(x)\n",
    "    x= MaxPool2D()(x)\n",
    "    x =Dropout(rate=0.2)(x)\n",
    "    x = Flatten()(x)\n",
    "    \n",
    "    outputs = tf.keras.layers.Dense(units=10, activation=\"softmax\")(x)\n",
    "    model= tf.keras.Model(inputs=inputs, outputs = outputs)\n",
    "    return model\n",
    "\n",
    "model = create_cnn2d(input_shape=x_train.shape[1:])\n",
    "\n",
    "opt = tf.keras.optimizers.RMSprop(learning_rate=0.01)\n",
    "model.compile(optimizer=opt, loss=\"categorical_crossentropy\", metrics=[\"accuracy\"])\n",
    "ret = model.fit(x_train,y_train,epochs=100, batch_size= 400, verbose=0)\n",
    "\n",
    "y_pred = model.predict(x_train)\n",
    "y_label = np.argmax(y_pred,axis=1)\n",
    "C= tf.math.confusion_matrix(np.argmax(y_train,axis=1),y_label)\n",
    "print(\"confusion_matrix:\",C)\n",
    "\n",
    "train_loss, train_acc = model.evaluate(x_train,y_train,verbose=0)\n",
    "test_loss, test_acc = model.evaluate(x_test,y_test,verbose=0)\n"
   ]
  }
 ],
 "metadata": {
  "kernelspec": {
   "display_name": "Python 3",
   "language": "python",
   "name": "python3"
  },
  "language_info": {
   "codemirror_mode": {
    "name": "ipython",
    "version": 3
   },
   "file_extension": ".py",
   "mimetype": "text/x-python",
   "name": "python",
   "nbconvert_exporter": "python",
   "pygments_lexer": "ipython3",
   "version": "3.11.4"
  },
  "orig_nbformat": 4
 },
 "nbformat": 4,
 "nbformat_minor": 2
}
